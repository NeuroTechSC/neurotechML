{
  "nbformat": 4,
  "nbformat_minor": 0,
  "metadata": {
    "colab": {
      "name": "PyTorch EEGEyeState",
      "provenance": [],
      "collapsed_sections": []
    },
    "kernelspec": {
      "name": "python3",
      "display_name": "Python 3"
    },
    "accelerator": "GPU"
  },
  "cells": [
    {
      "cell_type": "code",
      "metadata": {
        "id": "z8dL4rrQSXbL",
        "colab_type": "code",
        "colab": {}
      },
      "source": [
        "import torch\n",
        "import torch.nn as nn\n",
        "import torch.nn.functional as F\n",
        "import torch.optim as optim\n",
        "import torch.utils.data as data\n",
        "\n",
        "import torchvision.transforms as transforms\n",
        "import torchvision.datasets as datasets\n",
        "\n",
        "from sklearn import metrics\n",
        "from sklearn import decomposition\n",
        "from sklearn import manifold\n",
        "from sklearn.preprocessing import StandardScaler    \n",
        "from sklearn.model_selection import train_test_split\n",
        "from sklearn.metrics import confusion_matrix, classification_report\n",
        "from torch.utils.data import Dataset, DataLoader\n",
        "import matplotlib.pyplot as plt\n",
        "import numpy as np\n",
        "import pandas as pd\n",
        "import copy\n",
        "import random\n",
        "import time\n",
        "\n",
        "SEED = 1234\n",
        "\n",
        "random.seed(SEED)\n",
        "np.random.seed(SEED)\n",
        "torch.manual_seed(SEED)\n",
        "torch.cuda.manual_seed(SEED)\n",
        "torch.backends.cudnn.deterministic = True"
      ],
      "execution_count": 29,
      "outputs": []
    },
    {
      "cell_type": "code",
      "metadata": {
        "id": "ny8CDFfPSlnP",
        "colab_type": "code",
        "colab": {
          "base_uri": "https://localhost:8080/",
          "height": 204
        },
        "outputId": "79488470-2259-430d-87c9-db6360d49302"
      },
      "source": [
        "data = pd.read_csv('https://raw.githubusercontent.com/aidev1065/eeg-eye-state-classification/master/eeg_eye_state.csv', skiprows = [i for i in range(19)], header=None)\n",
        "data.tail()"
      ],
      "execution_count": 30,
      "outputs": [
        {
          "output_type": "execute_result",
          "data": {
            "text/html": [
              "<div>\n",
              "<style scoped>\n",
              "    .dataframe tbody tr th:only-of-type {\n",
              "        vertical-align: middle;\n",
              "    }\n",
              "\n",
              "    .dataframe tbody tr th {\n",
              "        vertical-align: top;\n",
              "    }\n",
              "\n",
              "    .dataframe thead th {\n",
              "        text-align: right;\n",
              "    }\n",
              "</style>\n",
              "<table border=\"1\" class=\"dataframe\">\n",
              "  <thead>\n",
              "    <tr style=\"text-align: right;\">\n",
              "      <th></th>\n",
              "      <th>0</th>\n",
              "      <th>1</th>\n",
              "      <th>2</th>\n",
              "      <th>3</th>\n",
              "      <th>4</th>\n",
              "      <th>5</th>\n",
              "      <th>6</th>\n",
              "      <th>7</th>\n",
              "      <th>8</th>\n",
              "      <th>9</th>\n",
              "      <th>10</th>\n",
              "      <th>11</th>\n",
              "      <th>12</th>\n",
              "      <th>13</th>\n",
              "      <th>14</th>\n",
              "    </tr>\n",
              "  </thead>\n",
              "  <tbody>\n",
              "    <tr>\n",
              "      <th>14957</th>\n",
              "      <td>4281.03</td>\n",
              "      <td>3990.26</td>\n",
              "      <td>4245.64</td>\n",
              "      <td>4116.92</td>\n",
              "      <td>4333.85</td>\n",
              "      <td>4614.36</td>\n",
              "      <td>4074.87</td>\n",
              "      <td>4625.64</td>\n",
              "      <td>4203.08</td>\n",
              "      <td>4221.54</td>\n",
              "      <td>4171.28</td>\n",
              "      <td>4269.23</td>\n",
              "      <td>4593.33</td>\n",
              "      <td>4340.51</td>\n",
              "      <td>1</td>\n",
              "    </tr>\n",
              "    <tr>\n",
              "      <th>14958</th>\n",
              "      <td>4276.92</td>\n",
              "      <td>3991.79</td>\n",
              "      <td>4245.13</td>\n",
              "      <td>4110.77</td>\n",
              "      <td>4332.82</td>\n",
              "      <td>4615.38</td>\n",
              "      <td>4073.33</td>\n",
              "      <td>4621.54</td>\n",
              "      <td>4194.36</td>\n",
              "      <td>4217.44</td>\n",
              "      <td>4162.56</td>\n",
              "      <td>4259.49</td>\n",
              "      <td>4590.26</td>\n",
              "      <td>4333.33</td>\n",
              "      <td>1</td>\n",
              "    </tr>\n",
              "    <tr>\n",
              "      <th>14959</th>\n",
              "      <td>4277.44</td>\n",
              "      <td>3990.77</td>\n",
              "      <td>4246.67</td>\n",
              "      <td>4113.85</td>\n",
              "      <td>4333.33</td>\n",
              "      <td>4615.38</td>\n",
              "      <td>4072.82</td>\n",
              "      <td>4623.59</td>\n",
              "      <td>4193.33</td>\n",
              "      <td>4212.82</td>\n",
              "      <td>4160.51</td>\n",
              "      <td>4257.95</td>\n",
              "      <td>4591.79</td>\n",
              "      <td>4339.49</td>\n",
              "      <td>1</td>\n",
              "    </tr>\n",
              "    <tr>\n",
              "      <th>14960</th>\n",
              "      <td>4284.62</td>\n",
              "      <td>3991.79</td>\n",
              "      <td>4251.28</td>\n",
              "      <td>4122.05</td>\n",
              "      <td>4334.36</td>\n",
              "      <td>4616.41</td>\n",
              "      <td>4080.51</td>\n",
              "      <td>4628.72</td>\n",
              "      <td>4200.00</td>\n",
              "      <td>4220.00</td>\n",
              "      <td>4165.64</td>\n",
              "      <td>4267.18</td>\n",
              "      <td>4596.41</td>\n",
              "      <td>4350.77</td>\n",
              "      <td>1</td>\n",
              "    </tr>\n",
              "    <tr>\n",
              "      <th>14961</th>\n",
              "      <td>4287.69</td>\n",
              "      <td>3997.44</td>\n",
              "      <td>4260.00</td>\n",
              "      <td>4121.03</td>\n",
              "      <td>4333.33</td>\n",
              "      <td>4616.41</td>\n",
              "      <td>4088.72</td>\n",
              "      <td>4638.46</td>\n",
              "      <td>4212.31</td>\n",
              "      <td>4226.67</td>\n",
              "      <td>4167.69</td>\n",
              "      <td>4274.36</td>\n",
              "      <td>4597.95</td>\n",
              "      <td>4350.77</td>\n",
              "      <td>1</td>\n",
              "    </tr>\n",
              "  </tbody>\n",
              "</table>\n",
              "</div>"
            ],
            "text/plain": [
              "            0        1        2        3   ...       11       12       13  14\n",
              "14957  4281.03  3990.26  4245.64  4116.92  ...  4269.23  4593.33  4340.51   1\n",
              "14958  4276.92  3991.79  4245.13  4110.77  ...  4259.49  4590.26  4333.33   1\n",
              "14959  4277.44  3990.77  4246.67  4113.85  ...  4257.95  4591.79  4339.49   1\n",
              "14960  4284.62  3991.79  4251.28  4122.05  ...  4267.18  4596.41  4350.77   1\n",
              "14961  4287.69  3997.44  4260.00  4121.03  ...  4274.36  4597.95  4350.77   1\n",
              "\n",
              "[5 rows x 15 columns]"
            ]
          },
          "metadata": {
            "tags": []
          },
          "execution_count": 30
        }
      ]
    },
    {
      "cell_type": "code",
      "metadata": {
        "id": "Ueg0srJ0SxkY",
        "colab_type": "code",
        "colab": {}
      },
      "source": [
        "X = df[:,:14]\n",
        "y = df[:,14:]"
      ],
      "execution_count": 31,
      "outputs": []
    },
    {
      "cell_type": "code",
      "metadata": {
        "id": "0hWfjogVTZkk",
        "colab_type": "code",
        "colab": {}
      },
      "source": [
        "X_train, X_test, y_train, y_test = train_test_split(X, y, test_size=0.25, random_state=1234)"
      ],
      "execution_count": 32,
      "outputs": []
    },
    {
      "cell_type": "code",
      "metadata": {
        "id": "g0KL-EHyTtER",
        "colab_type": "code",
        "colab": {}
      },
      "source": [
        "scaler = StandardScaler()\n",
        "X_train = scaler.fit_transform(X_train)\n",
        "X_test = scaler.fit_transform(X_test)"
      ],
      "execution_count": 33,
      "outputs": []
    },
    {
      "cell_type": "code",
      "metadata": {
        "id": "Y6UeoQf-TTvM",
        "colab_type": "code",
        "colab": {
          "base_uri": "https://localhost:8080/",
          "height": 51
        },
        "outputId": "b9822a98-85dd-4edb-e557-54677264c229"
      },
      "source": [
        "print(f\"Training Data has {len(X_train)} examples\")\n",
        "print(f\"Testing Data has {len(X_test)} examples\")"
      ],
      "execution_count": 34,
      "outputs": [
        {
          "output_type": "stream",
          "text": [
            "Training Data has 11221 examples\n",
            "Testing Data has 3741 examples\n"
          ],
          "name": "stdout"
        }
      ]
    },
    {
      "cell_type": "code",
      "metadata": {
        "id": "PVs6v3Xk--S4",
        "colab_type": "code",
        "colab": {
          "base_uri": "https://localhost:8080/",
          "height": 238
        },
        "outputId": "146e656e-cb7a-40b2-fcac-f9f5eb4c75f6"
      },
      "source": [
        "print(X_train)"
      ],
      "execution_count": 35,
      "outputs": [
        {
          "output_type": "stream",
          "text": [
            "[[ 1.66689168  1.99722465  2.47569811 ...  2.30736168  1.47897885\n",
            "   0.00486389]\n",
            " [-0.15840629 -0.45475565 -0.24340696 ... -0.01770198 -0.34797345\n",
            "  -0.01269127]\n",
            " [-0.30441115 -0.16683766 -0.05414157 ... -0.1983419  -0.1243303\n",
            "  -0.01299245]\n",
            " ...\n",
            " [ 1.1801561  -0.52938566  0.21765367 ...  0.89794746  1.83683698\n",
            "   0.00674737]\n",
            " [-0.26375758 -0.11361961 -0.40892772 ... -0.41515679 -0.27337726\n",
            "  -0.01186266]\n",
            " [ 2.01568984  2.42359274  1.15176251 ...  0.4762977   0.44248442\n",
            "   0.0036577 ]]\n"
          ],
          "name": "stdout"
        }
      ]
    },
    {
      "cell_type": "code",
      "metadata": {
        "id": "4g4cmdfRURYC",
        "colab_type": "code",
        "colab": {}
      },
      "source": [
        "## Train Data\n",
        "class trainData(Dataset):\n",
        "    \n",
        "    def __init__(self, X_data, y_data):\n",
        "        self.X_data = X_data\n",
        "        self.y_data = y_data\n",
        "        \n",
        "    def __getitem__(self, index):\n",
        "        return self.X_data[index], self.y_data[index]\n",
        "        \n",
        "    def __len__ (self):\n",
        "        return len(self.X_data)\n",
        "\n",
        "\n",
        "train_data = trainData(torch.FloatTensor(X_train), \n",
        "                       torch.FloatTensor(y_train))\n",
        "## Test Data    \n",
        "class testData(Dataset):\n",
        "    \n",
        "    def __init__(self, X_data):\n",
        "        self.X_data = X_data\n",
        "        \n",
        "    def __getitem__(self, index):\n",
        "        return self.X_data[index]\n",
        "        \n",
        "    def __len__ (self):\n",
        "        return len(self.X_data)\n",
        "    \n",
        "\n",
        "test_data = testData(torch.FloatTensor(X_test))"
      ],
      "execution_count": 36,
      "outputs": []
    },
    {
      "cell_type": "code",
      "metadata": {
        "id": "QlGXd0e1_yAl",
        "colab_type": "code",
        "colab": {}
      },
      "source": [
        "# Create DataLoaders for torch\n",
        "BATCH_SIZE = 64\n",
        "LEARNING_RATE=0.001\n",
        "EPOCHS=50\n",
        "\n",
        "train_loader = DataLoader(dataset=train_data, batch_size=BATCH_SIZE, shuffle=True)\n",
        "test_loader = DataLoader(dataset=test_data, batch_size=1)"
      ],
      "execution_count": 91,
      "outputs": []
    },
    {
      "cell_type": "code",
      "metadata": {
        "id": "rJde-qwhD7Nc",
        "colab_type": "code",
        "colab": {}
      },
      "source": [
        "class MLPNetwork(nn.Module):\n",
        "    def __init__(self):\n",
        "        super().__init__()\n",
        "\n",
        "        self.layer_1 = nn.Linear(14, 64) \n",
        "        self.layer_2 = nn.Linear(64, 64)\n",
        "        self.layer_out = nn.Linear(64, 1)\n",
        "        \n",
        "        self.leakyRelu = nn.LeakyReLU()\n",
        "        self.dropout = nn.Dropout(p=0.25)\n",
        "        self.batchnorm1 = nn.BatchNorm1d(64)\n",
        "        self.batchnorm2 = nn.BatchNorm1d(64)\n",
        "\n",
        "    def forward(self, x):\n",
        "        x = self.leakyRelu(self.layer_1(x))\n",
        "        x = self.batchnorm1(x)\n",
        "        x = self.dropout(x)\n",
        "        x = self.leakyRelu(self.layer_2(x))\n",
        "        x = self.batchnorm2(x)\n",
        "        x = self.dropout(x)\n",
        "        x = self.layer_out(x)\n",
        "        return x\n",
        "\n",
        "model = MLPNetwork()"
      ],
      "execution_count": 122,
      "outputs": []
    },
    {
      "cell_type": "code",
      "metadata": {
        "id": "ChKT8fRTJeCV",
        "colab_type": "code",
        "colab": {
          "base_uri": "https://localhost:8080/",
          "height": 34
        },
        "outputId": "b544f116-4523-44f8-ae9c-7320a6067510"
      },
      "source": [
        "def count_parameters(model):\n",
        "    return sum(p.numel() for p in model.parameters() if p.requires_grad)\n",
        "print(f'The model has {count_parameters(model):,} trainable parameters')"
      ],
      "execution_count": 123,
      "outputs": [
        {
          "output_type": "stream",
          "text": [
            "The model has 5,441 trainable parameters\n"
          ],
          "name": "stdout"
        }
      ]
    },
    {
      "cell_type": "code",
      "metadata": {
        "id": "0T1eGSRpH4bW",
        "colab_type": "code",
        "colab": {}
      },
      "source": [
        "optimizer = optim.Adam(model.parameters(), lr=LEARNING_RATE)\n",
        "criterion = nn.BCEWithLogitsLoss()\n",
        "device = torch.device('cuda' if torch.cuda.is_available() else 'cpu')"
      ],
      "execution_count": 124,
      "outputs": []
    },
    {
      "cell_type": "code",
      "metadata": {
        "id": "ROQMjs0jLmVQ",
        "colab_type": "code",
        "colab": {}
      },
      "source": [
        "model = model.to(device)\n",
        "criterion = criterion.to(device)"
      ],
      "execution_count": 125,
      "outputs": []
    },
    {
      "cell_type": "code",
      "metadata": {
        "id": "0fYPzjCRU4Jp",
        "colab_type": "code",
        "colab": {}
      },
      "source": [
        "def accuracy(y_pred, y_test):\n",
        "    y_pred_tag = torch.round(torch.sigmoid(y_pred))\n",
        "\n",
        "    correct_results_sum = (y_pred_tag == y_test).sum().float()\n",
        "    acc = correct_results_sum/y_test.shape[0]\n",
        "    acc = torch.round(acc * 100)\n",
        "    \n",
        "    return acc"
      ],
      "execution_count": 126,
      "outputs": []
    },
    {
      "cell_type": "code",
      "metadata": {
        "id": "qogO4Jw3U_9q",
        "colab_type": "code",
        "colab": {
          "base_uri": "https://localhost:8080/",
          "height": 867
        },
        "outputId": "dd31b4c3-d072-4409-b749-4f83e72e88c1"
      },
      "source": [
        "model.train()\n",
        "for e in range(1, EPOCHS+1):\n",
        "    epoch_loss = 0\n",
        "    epoch_acc = 0\n",
        "    for X_batch, y_batch in train_loader:\n",
        "        \n",
        "        X_batch, y_batch = X_batch.to(device), y_batch.to(device)\n",
        "        optimizer.zero_grad()\n",
        "        \n",
        "        y_pred = model(X_batch)\n",
        "        loss = criterion(y_pred, y_batch)\n",
        "        acc = accuracy(y_pred, y_batch)\n",
        "        \n",
        "        loss.backward()\n",
        "        optimizer.step()\n",
        "        \n",
        "        epoch_loss += loss.item()\n",
        "        epoch_acc += acc.item()\n",
        "        \n",
        "    print(f'Epoch {e+0:03}: | Loss: {epoch_loss/len(train_loader):.5f} | Acc: {epoch_acc/len(train_loader):.3f}')"
      ],
      "execution_count": 127,
      "outputs": [
        {
          "output_type": "stream",
          "text": [
            "Epoch 001: | Loss: 0.63393 | Acc: 63.699\n",
            "Epoch 002: | Loss: 0.57673 | Acc: 69.392\n",
            "Epoch 003: | Loss: 0.54671 | Acc: 71.790\n",
            "Epoch 004: | Loss: 0.52014 | Acc: 74.091\n",
            "Epoch 005: | Loss: 0.50304 | Acc: 75.097\n",
            "Epoch 006: | Loss: 0.47587 | Acc: 76.705\n",
            "Epoch 007: | Loss: 0.45316 | Acc: 78.426\n",
            "Epoch 008: | Loss: 0.44924 | Acc: 78.494\n",
            "Epoch 009: | Loss: 0.44486 | Acc: 78.756\n",
            "Epoch 010: | Loss: 0.43909 | Acc: 78.847\n",
            "Epoch 011: | Loss: 0.41929 | Acc: 80.307\n",
            "Epoch 012: | Loss: 0.41406 | Acc: 80.307\n",
            "Epoch 013: | Loss: 0.41286 | Acc: 80.324\n",
            "Epoch 014: | Loss: 0.41181 | Acc: 80.710\n",
            "Epoch 015: | Loss: 0.40170 | Acc: 80.977\n",
            "Epoch 016: | Loss: 0.39976 | Acc: 81.301\n",
            "Epoch 017: | Loss: 0.39273 | Acc: 81.784\n",
            "Epoch 018: | Loss: 0.39467 | Acc: 81.500\n",
            "Epoch 019: | Loss: 0.39490 | Acc: 81.750\n",
            "Epoch 020: | Loss: 0.38203 | Acc: 82.585\n",
            "Epoch 021: | Loss: 0.38697 | Acc: 82.148\n",
            "Epoch 022: | Loss: 0.37754 | Acc: 82.472\n",
            "Epoch 023: | Loss: 0.37203 | Acc: 82.795\n",
            "Epoch 024: | Loss: 0.37351 | Acc: 82.909\n",
            "Epoch 025: | Loss: 0.37548 | Acc: 82.767\n",
            "Epoch 026: | Loss: 0.37326 | Acc: 83.170\n",
            "Epoch 027: | Loss: 0.36569 | Acc: 83.483\n",
            "Epoch 028: | Loss: 0.36714 | Acc: 83.483\n",
            "Epoch 029: | Loss: 0.36539 | Acc: 83.381\n",
            "Epoch 030: | Loss: 0.36036 | Acc: 83.335\n",
            "Epoch 031: | Loss: 0.36364 | Acc: 83.318\n",
            "Epoch 032: | Loss: 0.35607 | Acc: 84.000\n",
            "Epoch 033: | Loss: 0.35827 | Acc: 84.062\n",
            "Epoch 034: | Loss: 0.35652 | Acc: 84.250\n",
            "Epoch 035: | Loss: 0.35557 | Acc: 83.920\n",
            "Epoch 036: | Loss: 0.35093 | Acc: 84.091\n",
            "Epoch 037: | Loss: 0.35591 | Acc: 83.670\n",
            "Epoch 038: | Loss: 0.34956 | Acc: 84.540\n",
            "Epoch 039: | Loss: 0.34727 | Acc: 84.597\n",
            "Epoch 040: | Loss: 0.35275 | Acc: 84.278\n",
            "Epoch 041: | Loss: 0.33806 | Acc: 84.801\n",
            "Epoch 042: | Loss: 0.34493 | Acc: 84.699\n",
            "Epoch 043: | Loss: 0.34244 | Acc: 84.506\n",
            "Epoch 044: | Loss: 0.35037 | Acc: 84.369\n",
            "Epoch 045: | Loss: 0.34618 | Acc: 84.261\n",
            "Epoch 046: | Loss: 0.33704 | Acc: 84.886\n",
            "Epoch 047: | Loss: 0.34192 | Acc: 84.273\n",
            "Epoch 048: | Loss: 0.33777 | Acc: 85.347\n",
            "Epoch 049: | Loss: 0.34212 | Acc: 84.784\n",
            "Epoch 050: | Loss: 0.33653 | Acc: 85.284\n"
          ],
          "name": "stdout"
        }
      ]
    },
    {
      "cell_type": "code",
      "metadata": {
        "id": "xtV7JwLkVOyF",
        "colab_type": "code",
        "colab": {}
      },
      "source": [
        "y_pred_list = []\n",
        "model.eval()\n",
        "with torch.no_grad():\n",
        "    for X_batch in test_loader:\n",
        "        X_batch = X_batch.to(device)\n",
        "        y_test_pred = model(X_batch)\n",
        "        y_test_pred = torch.sigmoid(y_test_pred)\n",
        "        y_pred_tag = torch.round(y_test_pred)\n",
        "        y_pred_list.append(y_pred_tag.cpu().numpy())\n",
        "\n",
        "y_pred_list = [a.squeeze().tolist() for a in y_pred_list]"
      ],
      "execution_count": 128,
      "outputs": []
    },
    {
      "cell_type": "code",
      "metadata": {
        "id": "k-o01zoaVRhB",
        "colab_type": "code",
        "colab": {
          "base_uri": "https://localhost:8080/",
          "height": 170
        },
        "outputId": "741f81ad-9588-4631-e8ab-a7ec24eab2f5"
      },
      "source": [
        "print(classification_report(y_test, y_pred_list))"
      ],
      "execution_count": 129,
      "outputs": [
        {
          "output_type": "stream",
          "text": [
            "              precision    recall  f1-score   support\n",
            "\n",
            "         0.0       0.66      0.42      0.52      2083\n",
            "         1.0       0.50      0.73      0.59      1658\n",
            "\n",
            "    accuracy                           0.56      3741\n",
            "   macro avg       0.58      0.58      0.56      3741\n",
            "weighted avg       0.59      0.56      0.55      3741\n",
            "\n"
          ],
          "name": "stdout"
        }
      ]
    },
    {
      "cell_type": "code",
      "metadata": {
        "id": "FwTICNwJV26T",
        "colab_type": "code",
        "colab": {}
      },
      "source": [
        ""
      ],
      "execution_count": null,
      "outputs": []
    }
  ]
}